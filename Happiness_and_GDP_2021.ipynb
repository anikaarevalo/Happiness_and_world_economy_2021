{
 "cells": [
  {
   "cell_type": "markdown",
   "id": "e5edceb1",
   "metadata": {},
   "source": [
    "# Correlation of the global happiness index and world GDP using Pandas for year 2021 "
   ]
  },
  {
   "cell_type": "markdown",
   "id": "f58d5e74",
   "metadata": {},
   "source": [
    "<p>The study of <b>'Happiness'</b> is a recurring theme in Philosophy, my academic discipline of provenance. The discipline has given me ideas (frameworks) and ways to think about these ideas (methodologies) that have helped me clarify the issue of happiness on a personal level. That being said, I fully support Aristotle's vision of happiness as <b><i>'human flourishing'</i></b>. What this means not only in my day-to-day, but also in the day-to-day of the other 9 trillion+ inhabitants of our planet, leaves ample room for discussion and debate.</p><img src=\"https://sdxl-h-p-8.stablediffusionweb.com/file=/tmp/gradio/fd3d7333a7fb9ea1073a72cbb8c3a6d11a21edcc/image.png\" width=\"300\" height=\"200\"></p>   \n",
    "\n",
    "<p>But the <a href=\"https://worldhappiness.report/\">World Happiness Report</a>, published annually by the United Nations, includes in-depth analyses of the real-world factors influencing happiness, including the relationship between GDP and happiness. Their website provides access to the latest reports, research papers, and analyses in the field of happiness and well-being.</p>\n",
    "\n",
    "<p>For this Data Science project, we shall find out how--and to what significant extent--GDP-relevant data influence the global experience of happiness. "
   ]
  },
  {
   "cell_type": "markdown",
   "id": "a1d57837",
   "metadata": {},
   "source": [
    "## 1. Loading data and data analysis framework"
   ]
  },
  {
   "cell_type": "markdown",
   "id": "deeaf105",
   "metadata": {},
   "source": [
    "### Instantiating Pandas, a powerful Python-based library that we shall be leveraging to perform data transformation and analysis"
   ]
  },
  {
   "cell_type": "code",
   "execution_count": 148,
   "id": "f6fff08a",
   "metadata": {},
   "outputs": [],
   "source": [
    "#Access Python data analysis library\n",
    "import pandas as pd"
   ]
  },
  {
   "cell_type": "markdown",
   "id": "b3b06241",
   "metadata": {},
   "source": [
    "### Accessing the latest published Global GDP data by the World Economic Forum from [this site](https://ourworldindata.org/grapher/national-gdp-constant-usd-wb?tab=table) "
   ]
  },
  {
   "cell_type": "code",
   "execution_count": 149,
   "id": "d266b2a4",
   "metadata": {},
   "outputs": [
    {
     "name": "stdout",
     "output_type": "stream",
     "text": [
      "        Entity Code  Year  GDP (constant 2015 US$)\n",
      "0  Afghanistan  AFG  2002               7555185000\n",
      "1  Afghanistan  AFG  2003               8222480400\n",
      "2  Afghanistan  AFG  2004               8338755600\n",
      "3  Afghanistan  AFG  2005               9275174000\n",
      "4  Afghanistan  AFG  2006               9772083000\n"
     ]
    }
   ],
   "source": [
    "#Load the relevant data set into a Pandas DataFrame\n",
    "gdp = pd.read_csv('national-gdp-constant-usd-wb.csv')\n",
    "print(gdp.head())"
   ]
  },
  {
   "cell_type": "markdown",
   "id": "ded8c1b3",
   "metadata": {},
   "source": [
    "### Accessing our second data set containing data on the world happiness index for the year 2021 which was sourced from [this site](https://data.world/makeovermonday/2020w19-world-happiness-report-2020/workspace/file?filename=WHR20_DataForFigure2.1.xls)"
   ]
  },
  {
   "cell_type": "code",
   "execution_count": 150,
   "id": "4f3e49ed",
   "metadata": {},
   "outputs": [
    {
     "data": {
      "text/html": [
       "<div>\n",
       "<style scoped>\n",
       "    .dataframe tbody tr th:only-of-type {\n",
       "        vertical-align: middle;\n",
       "    }\n",
       "\n",
       "    .dataframe tbody tr th {\n",
       "        vertical-align: top;\n",
       "    }\n",
       "\n",
       "    .dataframe thead th {\n",
       "        text-align: right;\n",
       "    }\n",
       "</style>\n",
       "<table border=\"1\" class=\"dataframe\">\n",
       "  <thead>\n",
       "    <tr style=\"text-align: right;\">\n",
       "      <th></th>\n",
       "      <th>Country name</th>\n",
       "      <th>Regional indicator</th>\n",
       "      <th>Ladder score</th>\n",
       "      <th>Standard error of ladder score</th>\n",
       "      <th>upperwhisker</th>\n",
       "      <th>lowerwhisker</th>\n",
       "      <th>Logged GDP per capita</th>\n",
       "      <th>Social support</th>\n",
       "      <th>Healthy life expectancy</th>\n",
       "      <th>Freedom to make life choices</th>\n",
       "      <th>Generosity</th>\n",
       "      <th>Perceptions of corruption</th>\n",
       "      <th>Ladder score in Dystopia</th>\n",
       "      <th>Explained by: Log GDP per capita</th>\n",
       "      <th>Explained by: Social support</th>\n",
       "      <th>Explained by: Healthy life expectancy</th>\n",
       "      <th>Explained by: Freedom to make life choices</th>\n",
       "      <th>Explained by: Generosity</th>\n",
       "      <th>Explained by: Perceptions of corruption</th>\n",
       "      <th>Dystopia + residual</th>\n",
       "    </tr>\n",
       "  </thead>\n",
       "  <tbody>\n",
       "    <tr>\n",
       "      <th>0</th>\n",
       "      <td>Finland</td>\n",
       "      <td>Western Europe</td>\n",
       "      <td>7.8087</td>\n",
       "      <td>0.031156</td>\n",
       "      <td>7.869766</td>\n",
       "      <td>7.747634</td>\n",
       "      <td>10.639267</td>\n",
       "      <td>0.954330</td>\n",
       "      <td>71.900826</td>\n",
       "      <td>0.949172</td>\n",
       "      <td>-0.059482</td>\n",
       "      <td>0.195445</td>\n",
       "      <td>1.972317</td>\n",
       "      <td>1.285190</td>\n",
       "      <td>1.499526</td>\n",
       "      <td>0.961271</td>\n",
       "      <td>0.662317</td>\n",
       "      <td>0.159670</td>\n",
       "      <td>0.477857</td>\n",
       "      <td>2.762835</td>\n",
       "    </tr>\n",
       "    <tr>\n",
       "      <th>1</th>\n",
       "      <td>Denmark</td>\n",
       "      <td>Western Europe</td>\n",
       "      <td>7.6456</td>\n",
       "      <td>0.033492</td>\n",
       "      <td>7.711245</td>\n",
       "      <td>7.579955</td>\n",
       "      <td>10.774001</td>\n",
       "      <td>0.955991</td>\n",
       "      <td>72.402504</td>\n",
       "      <td>0.951444</td>\n",
       "      <td>0.066202</td>\n",
       "      <td>0.168489</td>\n",
       "      <td>1.972317</td>\n",
       "      <td>1.326949</td>\n",
       "      <td>1.503449</td>\n",
       "      <td>0.979333</td>\n",
       "      <td>0.665040</td>\n",
       "      <td>0.242793</td>\n",
       "      <td>0.495260</td>\n",
       "      <td>2.432741</td>\n",
       "    </tr>\n",
       "    <tr>\n",
       "      <th>2</th>\n",
       "      <td>Switzerland</td>\n",
       "      <td>Western Europe</td>\n",
       "      <td>7.5599</td>\n",
       "      <td>0.035014</td>\n",
       "      <td>7.628528</td>\n",
       "      <td>7.491272</td>\n",
       "      <td>10.979933</td>\n",
       "      <td>0.942847</td>\n",
       "      <td>74.102448</td>\n",
       "      <td>0.921337</td>\n",
       "      <td>0.105911</td>\n",
       "      <td>0.303728</td>\n",
       "      <td>1.972317</td>\n",
       "      <td>1.390774</td>\n",
       "      <td>1.472403</td>\n",
       "      <td>1.040533</td>\n",
       "      <td>0.628954</td>\n",
       "      <td>0.269056</td>\n",
       "      <td>0.407946</td>\n",
       "      <td>2.350267</td>\n",
       "    </tr>\n",
       "    <tr>\n",
       "      <th>3</th>\n",
       "      <td>Iceland</td>\n",
       "      <td>Western Europe</td>\n",
       "      <td>7.5045</td>\n",
       "      <td>0.059616</td>\n",
       "      <td>7.621347</td>\n",
       "      <td>7.387653</td>\n",
       "      <td>10.772559</td>\n",
       "      <td>0.974670</td>\n",
       "      <td>73.000000</td>\n",
       "      <td>0.948892</td>\n",
       "      <td>0.246944</td>\n",
       "      <td>0.711710</td>\n",
       "      <td>1.972317</td>\n",
       "      <td>1.326502</td>\n",
       "      <td>1.547567</td>\n",
       "      <td>1.000843</td>\n",
       "      <td>0.661981</td>\n",
       "      <td>0.362330</td>\n",
       "      <td>0.144541</td>\n",
       "      <td>2.460688</td>\n",
       "    </tr>\n",
       "    <tr>\n",
       "      <th>4</th>\n",
       "      <td>Norway</td>\n",
       "      <td>Western Europe</td>\n",
       "      <td>7.4880</td>\n",
       "      <td>0.034837</td>\n",
       "      <td>7.556281</td>\n",
       "      <td>7.419719</td>\n",
       "      <td>11.087804</td>\n",
       "      <td>0.952487</td>\n",
       "      <td>73.200783</td>\n",
       "      <td>0.955750</td>\n",
       "      <td>0.134533</td>\n",
       "      <td>0.263218</td>\n",
       "      <td>1.972317</td>\n",
       "      <td>1.424207</td>\n",
       "      <td>1.495173</td>\n",
       "      <td>1.008072</td>\n",
       "      <td>0.670201</td>\n",
       "      <td>0.287985</td>\n",
       "      <td>0.434101</td>\n",
       "      <td>2.168266</td>\n",
       "    </tr>\n",
       "  </tbody>\n",
       "</table>\n",
       "</div>"
      ],
      "text/plain": [
       "  Country name Regional indicator  Ladder score  \\\n",
       "0      Finland     Western Europe        7.8087   \n",
       "1      Denmark     Western Europe        7.6456   \n",
       "2  Switzerland     Western Europe        7.5599   \n",
       "3      Iceland     Western Europe        7.5045   \n",
       "4       Norway     Western Europe        7.4880   \n",
       "\n",
       "   Standard error of ladder score  upperwhisker  lowerwhisker  \\\n",
       "0                        0.031156      7.869766      7.747634   \n",
       "1                        0.033492      7.711245      7.579955   \n",
       "2                        0.035014      7.628528      7.491272   \n",
       "3                        0.059616      7.621347      7.387653   \n",
       "4                        0.034837      7.556281      7.419719   \n",
       "\n",
       "   Logged GDP per capita  Social support  Healthy life expectancy  \\\n",
       "0              10.639267        0.954330                71.900826   \n",
       "1              10.774001        0.955991                72.402504   \n",
       "2              10.979933        0.942847                74.102448   \n",
       "3              10.772559        0.974670                73.000000   \n",
       "4              11.087804        0.952487                73.200783   \n",
       "\n",
       "   Freedom to make life choices  Generosity  Perceptions of corruption  \\\n",
       "0                      0.949172   -0.059482                   0.195445   \n",
       "1                      0.951444    0.066202                   0.168489   \n",
       "2                      0.921337    0.105911                   0.303728   \n",
       "3                      0.948892    0.246944                   0.711710   \n",
       "4                      0.955750    0.134533                   0.263218   \n",
       "\n",
       "   Ladder score in Dystopia  Explained by: Log GDP per capita  \\\n",
       "0                  1.972317                          1.285190   \n",
       "1                  1.972317                          1.326949   \n",
       "2                  1.972317                          1.390774   \n",
       "3                  1.972317                          1.326502   \n",
       "4                  1.972317                          1.424207   \n",
       "\n",
       "   Explained by: Social support  Explained by: Healthy life expectancy  \\\n",
       "0                      1.499526                               0.961271   \n",
       "1                      1.503449                               0.979333   \n",
       "2                      1.472403                               1.040533   \n",
       "3                      1.547567                               1.000843   \n",
       "4                      1.495173                               1.008072   \n",
       "\n",
       "   Explained by: Freedom to make life choices  Explained by: Generosity  \\\n",
       "0                                    0.662317                  0.159670   \n",
       "1                                    0.665040                  0.242793   \n",
       "2                                    0.628954                  0.269056   \n",
       "3                                    0.661981                  0.362330   \n",
       "4                                    0.670201                  0.287985   \n",
       "\n",
       "   Explained by: Perceptions of corruption  Dystopia + residual  \n",
       "0                                 0.477857             2.762835  \n",
       "1                                 0.495260             2.432741  \n",
       "2                                 0.407946             2.350267  \n",
       "3                                 0.144541             2.460688  \n",
       "4                                 0.434101             2.168266  "
      ]
     },
     "execution_count": 150,
     "metadata": {},
     "output_type": "execute_result"
    }
   ],
   "source": [
    "# Loading our relevant happiness index 2021 data set as a Pandas DataFrame\n",
    "# Getting a glimpse of the first few rows\n",
    "happiness_2021 = pd.read_csv('happiness_2021.csv')\n",
    "happiness_2021.head()"
   ]
  },
  {
   "cell_type": "code",
   "execution_count": 151,
   "id": "81da85d0",
   "metadata": {},
   "outputs": [
    {
     "name": "stdout",
     "output_type": "stream",
     "text": [
      "<class 'pandas.core.frame.DataFrame'>\n",
      "RangeIndex: 153 entries, 0 to 152\n",
      "Data columns (total 20 columns):\n",
      " #   Column                                      Non-Null Count  Dtype  \n",
      "---  ------                                      --------------  -----  \n",
      " 0   Country name                                153 non-null    object \n",
      " 1   Regional indicator                          153 non-null    object \n",
      " 2   Ladder score                                153 non-null    float64\n",
      " 3   Standard error of ladder score              153 non-null    float64\n",
      " 4   upperwhisker                                153 non-null    float64\n",
      " 5   lowerwhisker                                153 non-null    float64\n",
      " 6   Logged GDP per capita                       153 non-null    float64\n",
      " 7   Social support                              153 non-null    float64\n",
      " 8   Healthy life expectancy                     153 non-null    float64\n",
      " 9   Freedom to make life choices                153 non-null    float64\n",
      " 10  Generosity                                  153 non-null    float64\n",
      " 11  Perceptions of corruption                   153 non-null    float64\n",
      " 12  Ladder score in Dystopia                    153 non-null    float64\n",
      " 13  Explained by: Log GDP per capita            153 non-null    float64\n",
      " 14  Explained by: Social support                153 non-null    float64\n",
      " 15  Explained by: Healthy life expectancy       153 non-null    float64\n",
      " 16  Explained by: Freedom to make life choices  153 non-null    float64\n",
      " 17  Explained by: Generosity                    153 non-null    float64\n",
      " 18  Explained by: Perceptions of corruption     153 non-null    float64\n",
      " 19  Dystopia + residual                         153 non-null    float64\n",
      "dtypes: float64(18), object(2)\n",
      "memory usage: 24.0+ KB\n"
     ]
    },
    {
     "data": {
      "text/plain": [
       "(153, 20)"
      ]
     },
     "execution_count": 151,
     "metadata": {},
     "output_type": "execute_result"
    }
   ],
   "source": [
    "happiness_2021.info()\n",
    "\n",
    "happiness_2021.shape"
   ]
  },
  {
   "cell_type": "code",
   "execution_count": 152,
   "id": "cd6d3182",
   "metadata": {},
   "outputs": [
    {
     "data": {
      "text/plain": [
       "Index(['Country name', 'Regional indicator', 'Ladder score',\n",
       "       'Standard error of ladder score', 'upperwhisker', 'lowerwhisker',\n",
       "       'Logged GDP per capita', 'Social support', 'Healthy life expectancy',\n",
       "       'Freedom to make life choices', 'Generosity',\n",
       "       'Perceptions of corruption', 'Ladder score in Dystopia',\n",
       "       'Explained by: Log GDP per capita', 'Explained by: Social support',\n",
       "       'Explained by: Healthy life expectancy',\n",
       "       'Explained by: Freedom to make life choices',\n",
       "       'Explained by: Generosity', 'Explained by: Perceptions of corruption',\n",
       "       'Dystopia + residual'],\n",
       "      dtype='object')"
      ]
     },
     "execution_count": 152,
     "metadata": {},
     "output_type": "execute_result"
    }
   ],
   "source": [
    "happiness_2021.columns"
   ]
  },
  {
   "cell_type": "markdown",
   "id": "9e8ebbd8",
   "metadata": {},
   "source": [
    "### The DataSet contains plenty of variable features. However, we are only going to use data values under the columns 'Country name', 'Regional indicator', Ladder score', and 'Logged GDP per capita', 'Healthy life expectancy', and 'Generosity'. Our new DataFrame will be called 'new_happiness_2021.' "
   ]
  },
  {
   "cell_type": "code",
   "execution_count": 153,
   "id": "50260619",
   "metadata": {},
   "outputs": [],
   "source": [
    "# Using a function to subset 'happiness_2021' DataFrame\n",
    "# to only include the three columns: 'Country name', 'Regional indicator',\n",
    "# Ladder score', and 'Logged GDP per capita',\n",
    "# 'Healthy life expectancy' and 'Generosity'\n",
    "\n",
    "def shrink_dataframe(df):\n",
    "    # Selecting the desired columns\n",
    "    selected_columns = ['Country name', 'Regional indicator',\n",
    "                        'Ladder score', 'Logged GDP per capita', 'Healthy life expectancy' and 'Generosity']\n",
    "    \n",
    "    # Creating a new DataFrame with only the selected columns\n",
    "    new_df = df[selected_columns].copy()\n",
    "    \n",
    "    return new_df\n",
    "\n",
    "# With 'happiness_2021' as the original DataFrame,\n",
    "# we would call the function like this:\n",
    "\n",
    "new_happiness_2021 = shrink_dataframe(happiness_2021)"
   ]
  },
  {
   "cell_type": "code",
   "execution_count": 154,
   "id": "31d3decd",
   "metadata": {},
   "outputs": [
    {
     "data": {
      "text/html": [
       "<div>\n",
       "<style scoped>\n",
       "    .dataframe tbody tr th:only-of-type {\n",
       "        vertical-align: middle;\n",
       "    }\n",
       "\n",
       "    .dataframe tbody tr th {\n",
       "        vertical-align: top;\n",
       "    }\n",
       "\n",
       "    .dataframe thead th {\n",
       "        text-align: right;\n",
       "    }\n",
       "</style>\n",
       "<table border=\"1\" class=\"dataframe\">\n",
       "  <thead>\n",
       "    <tr style=\"text-align: right;\">\n",
       "      <th></th>\n",
       "      <th>Country name</th>\n",
       "      <th>Regional indicator</th>\n",
       "      <th>Ladder score</th>\n",
       "      <th>Logged GDP per capita</th>\n",
       "      <th>Generosity</th>\n",
       "    </tr>\n",
       "  </thead>\n",
       "  <tbody>\n",
       "    <tr>\n",
       "      <th>0</th>\n",
       "      <td>Finland</td>\n",
       "      <td>Western Europe</td>\n",
       "      <td>7.8087</td>\n",
       "      <td>10.639267</td>\n",
       "      <td>-0.059482</td>\n",
       "    </tr>\n",
       "    <tr>\n",
       "      <th>1</th>\n",
       "      <td>Denmark</td>\n",
       "      <td>Western Europe</td>\n",
       "      <td>7.6456</td>\n",
       "      <td>10.774001</td>\n",
       "      <td>0.066202</td>\n",
       "    </tr>\n",
       "    <tr>\n",
       "      <th>2</th>\n",
       "      <td>Switzerland</td>\n",
       "      <td>Western Europe</td>\n",
       "      <td>7.5599</td>\n",
       "      <td>10.979933</td>\n",
       "      <td>0.105911</td>\n",
       "    </tr>\n",
       "    <tr>\n",
       "      <th>3</th>\n",
       "      <td>Iceland</td>\n",
       "      <td>Western Europe</td>\n",
       "      <td>7.5045</td>\n",
       "      <td>10.772559</td>\n",
       "      <td>0.246944</td>\n",
       "    </tr>\n",
       "    <tr>\n",
       "      <th>4</th>\n",
       "      <td>Norway</td>\n",
       "      <td>Western Europe</td>\n",
       "      <td>7.4880</td>\n",
       "      <td>11.087804</td>\n",
       "      <td>0.134533</td>\n",
       "    </tr>\n",
       "  </tbody>\n",
       "</table>\n",
       "</div>"
      ],
      "text/plain": [
       "  Country name Regional indicator  Ladder score  Logged GDP per capita  \\\n",
       "0      Finland     Western Europe        7.8087              10.639267   \n",
       "1      Denmark     Western Europe        7.6456              10.774001   \n",
       "2  Switzerland     Western Europe        7.5599              10.979933   \n",
       "3      Iceland     Western Europe        7.5045              10.772559   \n",
       "4       Norway     Western Europe        7.4880              11.087804   \n",
       "\n",
       "   Generosity  \n",
       "0   -0.059482  \n",
       "1    0.066202  \n",
       "2    0.105911  \n",
       "3    0.246944  \n",
       "4    0.134533  "
      ]
     },
     "execution_count": 154,
     "metadata": {},
     "output_type": "execute_result"
    }
   ],
   "source": [
    "# Taking a look at the first few observations of our new DataFrame\n",
    "new_happiness_2021.head()"
   ]
  },
  {
   "cell_type": "markdown",
   "id": "2036f0bf",
   "metadata": {},
   "source": [
    "### We'll replace some column names with simpler variable names which are comparable to the column variable names of our first DataFrame 'gdp'"
   ]
  },
  {
   "cell_type": "code",
   "execution_count": 155,
   "id": "84deae42",
   "metadata": {},
   "outputs": [],
   "source": [
    "# Using a Python function to replace the column variable names 'Country name', 'Ladder score', and \n",
    "# 'Logged GDP per capita' of our downsized DataFrame called 'new_happiness_2021' with the new column variable \n",
    "# names 'Country', 'Happiness ranking', and 'GDP 2021' respectively. \n",
    "def rename_columns(df):\n",
    "    # Dictionary to map old column names to new column names\n",
    "    column_mapping = {\n",
    "        'Country name': 'Country',\n",
    "        'Ladder score': 'Happiness ranking',\n",
    "        'Logged GDP per capita': 'GDP 2021'\n",
    "    }\n",
    "    \n",
    "    # Rename the columns using the dictionary\n",
    "    df.rename(columns=column_mapping, inplace=True)\n",
    "\n",
    "# Calling the function\n",
    "rename_columns(new_happiness_2021)"
   ]
  },
  {
   "cell_type": "code",
   "execution_count": 156,
   "id": "9c5c6b94",
   "metadata": {},
   "outputs": [
    {
     "data": {
      "text/html": [
       "<div>\n",
       "<style scoped>\n",
       "    .dataframe tbody tr th:only-of-type {\n",
       "        vertical-align: middle;\n",
       "    }\n",
       "\n",
       "    .dataframe tbody tr th {\n",
       "        vertical-align: top;\n",
       "    }\n",
       "\n",
       "    .dataframe thead th {\n",
       "        text-align: right;\n",
       "    }\n",
       "</style>\n",
       "<table border=\"1\" class=\"dataframe\">\n",
       "  <thead>\n",
       "    <tr style=\"text-align: right;\">\n",
       "      <th></th>\n",
       "      <th>Country</th>\n",
       "      <th>Regional indicator</th>\n",
       "      <th>Happiness ranking</th>\n",
       "      <th>GDP 2021</th>\n",
       "      <th>Generosity</th>\n",
       "    </tr>\n",
       "  </thead>\n",
       "  <tbody>\n",
       "    <tr>\n",
       "      <th>0</th>\n",
       "      <td>Finland</td>\n",
       "      <td>Western Europe</td>\n",
       "      <td>7.8087</td>\n",
       "      <td>10.639267</td>\n",
       "      <td>-0.059482</td>\n",
       "    </tr>\n",
       "    <tr>\n",
       "      <th>1</th>\n",
       "      <td>Denmark</td>\n",
       "      <td>Western Europe</td>\n",
       "      <td>7.6456</td>\n",
       "      <td>10.774001</td>\n",
       "      <td>0.066202</td>\n",
       "    </tr>\n",
       "    <tr>\n",
       "      <th>2</th>\n",
       "      <td>Switzerland</td>\n",
       "      <td>Western Europe</td>\n",
       "      <td>7.5599</td>\n",
       "      <td>10.979933</td>\n",
       "      <td>0.105911</td>\n",
       "    </tr>\n",
       "    <tr>\n",
       "      <th>3</th>\n",
       "      <td>Iceland</td>\n",
       "      <td>Western Europe</td>\n",
       "      <td>7.5045</td>\n",
       "      <td>10.772559</td>\n",
       "      <td>0.246944</td>\n",
       "    </tr>\n",
       "    <tr>\n",
       "      <th>4</th>\n",
       "      <td>Norway</td>\n",
       "      <td>Western Europe</td>\n",
       "      <td>7.4880</td>\n",
       "      <td>11.087804</td>\n",
       "      <td>0.134533</td>\n",
       "    </tr>\n",
       "  </tbody>\n",
       "</table>\n",
       "</div>"
      ],
      "text/plain": [
       "       Country Regional indicator  Happiness ranking   GDP 2021  Generosity\n",
       "0      Finland     Western Europe             7.8087  10.639267   -0.059482\n",
       "1      Denmark     Western Europe             7.6456  10.774001    0.066202\n",
       "2  Switzerland     Western Europe             7.5599  10.979933    0.105911\n",
       "3      Iceland     Western Europe             7.5045  10.772559    0.246944\n",
       "4       Norway     Western Europe             7.4880  11.087804    0.134533"
      ]
     },
     "execution_count": 156,
     "metadata": {},
     "output_type": "execute_result"
    }
   ],
   "source": [
    "new_happiness_2021.head()"
   ]
  },
  {
   "cell_type": "markdown",
   "id": "1ec01f79",
   "metadata": {},
   "source": [
    "## 2. Exploratory data analysis"
   ]
  },
  {
   "cell_type": "markdown",
   "id": "02ced556",
   "metadata": {},
   "source": [
    "Now that the data are loaded into DataFrames, we shall first lightly explore the data to determine their salient characteristics (i.e. the values, column headings, and indices). This would also give us a preview of the distribution of the data."
   ]
  },
  {
   "cell_type": "markdown",
   "id": "3f57d8b8",
   "metadata": {},
   "source": [
    "## 'gdp' DataFrame"
   ]
  },
  {
   "cell_type": "code",
   "execution_count": 157,
   "id": "fbfdc1eb",
   "metadata": {},
   "outputs": [
    {
     "data": {
      "text/plain": [
       "(10669, 4)"
      ]
     },
     "execution_count": 157,
     "metadata": {},
     "output_type": "execute_result"
    }
   ],
   "source": [
    "#Finding out the number of rows and columns\n",
    "gdp.shape"
   ]
  },
  {
   "cell_type": "code",
   "execution_count": 158,
   "id": "a41d3ba8",
   "metadata": {},
   "outputs": [
    {
     "data": {
      "text/plain": [
       "Index(['Entity', 'Code', 'Year', 'GDP (constant 2015 US$)'], dtype='object')"
      ]
     },
     "execution_count": 158,
     "metadata": {},
     "output_type": "execute_result"
    }
   ],
   "source": [
    "#Finding out out the column variable names\n",
    "gdp.columns"
   ]
  },
  {
   "cell_type": "code",
   "execution_count": 159,
   "id": "f471b278",
   "metadata": {},
   "outputs": [
    {
     "name": "stdout",
     "output_type": "stream",
     "text": [
      "<class 'pandas.core.frame.DataFrame'>\n",
      "RangeIndex: 10669 entries, 0 to 10668\n",
      "Data columns (total 4 columns):\n",
      " #   Column                   Non-Null Count  Dtype \n",
      "---  ------                   --------------  ----- \n",
      " 0   Entity                   10669 non-null  object\n",
      " 1   Code                     9890 non-null   object\n",
      " 2   Year                     10669 non-null  int64 \n",
      " 3   GDP (constant 2015 US$)  10669 non-null  int64 \n",
      "dtypes: int64(2), object(2)\n",
      "memory usage: 333.5+ KB\n"
     ]
    }
   ],
   "source": [
    "# Getting some fundamental statistics about our dataset\n",
    "gdp.info()"
   ]
  },
  {
   "cell_type": "markdown",
   "id": "8f20370e",
   "metadata": {},
   "source": [
    "To optimize our analysis of Global GDP data 2021, we have to find out if there are missing values (and to what extent). We improve our chances of attaining clear, accurate, and comprehensive results in our analysis when we determine that our relevant data is sufficient to begin with."
   ]
  },
  {
   "cell_type": "code",
   "execution_count": 160,
   "id": "d2289385",
   "metadata": {},
   "outputs": [
    {
     "data": {
      "text/html": [
       "<div>\n",
       "<style scoped>\n",
       "    .dataframe tbody tr th:only-of-type {\n",
       "        vertical-align: middle;\n",
       "    }\n",
       "\n",
       "    .dataframe tbody tr th {\n",
       "        vertical-align: top;\n",
       "    }\n",
       "\n",
       "    .dataframe thead th {\n",
       "        text-align: right;\n",
       "    }\n",
       "</style>\n",
       "<table border=\"1\" class=\"dataframe\">\n",
       "  <thead>\n",
       "    <tr style=\"text-align: right;\">\n",
       "      <th></th>\n",
       "      <th>Entity</th>\n",
       "      <th>Code</th>\n",
       "      <th>Year</th>\n",
       "      <th>GDP (constant 2015 US$)</th>\n",
       "    </tr>\n",
       "  </thead>\n",
       "  <tbody>\n",
       "    <tr>\n",
       "      <th>0</th>\n",
       "      <td>False</td>\n",
       "      <td>False</td>\n",
       "      <td>False</td>\n",
       "      <td>False</td>\n",
       "    </tr>\n",
       "    <tr>\n",
       "      <th>1</th>\n",
       "      <td>False</td>\n",
       "      <td>False</td>\n",
       "      <td>False</td>\n",
       "      <td>False</td>\n",
       "    </tr>\n",
       "    <tr>\n",
       "      <th>2</th>\n",
       "      <td>False</td>\n",
       "      <td>False</td>\n",
       "      <td>False</td>\n",
       "      <td>False</td>\n",
       "    </tr>\n",
       "    <tr>\n",
       "      <th>3</th>\n",
       "      <td>False</td>\n",
       "      <td>False</td>\n",
       "      <td>False</td>\n",
       "      <td>False</td>\n",
       "    </tr>\n",
       "    <tr>\n",
       "      <th>4</th>\n",
       "      <td>False</td>\n",
       "      <td>False</td>\n",
       "      <td>False</td>\n",
       "      <td>False</td>\n",
       "    </tr>\n",
       "  </tbody>\n",
       "</table>\n",
       "</div>"
      ],
      "text/plain": [
       "   Entity   Code   Year  GDP (constant 2015 US$)\n",
       "0   False  False  False                    False\n",
       "1   False  False  False                    False\n",
       "2   False  False  False                    False\n",
       "3   False  False  False                    False\n",
       "4   False  False  False                    False"
      ]
     },
     "execution_count": 160,
     "metadata": {},
     "output_type": "execute_result"
    }
   ],
   "source": [
    "# Checking for missing values\n",
    "gdp.isna().head()"
   ]
  },
  {
   "cell_type": "code",
   "execution_count": 161,
   "id": "0ce4074c",
   "metadata": {},
   "outputs": [
    {
     "data": {
      "text/plain": [
       "Entity                       0\n",
       "Code                       779\n",
       "Year                         0\n",
       "GDP (constant 2015 US$)      0\n",
       "dtype: int64"
      ]
     },
     "execution_count": 161,
     "metadata": {},
     "output_type": "execute_result"
    }
   ],
   "source": [
    "# Getting a tally of possible missing values for each row\n",
    "# We find out that under the column 'Code' there are 779 missing values\n",
    "gdp.isna().sum()"
   ]
  },
  {
   "cell_type": "markdown",
   "id": "ca79b5ad",
   "metadata": {},
   "source": [
    "There are 779 empty or missing field values under the column 'Code.' Since we've had a glimpse of the first available rows of the dataframe at the outset, it stands to reason that these missing values are negligible. That is, the column 'Entity' has 0 missing values, and its field values are equivalent to the values under the neighboring column 'Code' (i.e. the former contains names of countries/nations of the world, while the latter corresponds to the respective abbreviations). "
   ]
  },
  {
   "cell_type": "markdown",
   "id": "0f4c7823",
   "metadata": {},
   "source": [
    "Using the same 'gdp' DataFrame, we'll replace the column name 'GDP (constant 2015 US )' with simpler variable 'GDP'."
   ]
  },
  {
   "cell_type": "code",
   "execution_count": 162,
   "id": "088559f7",
   "metadata": {},
   "outputs": [],
   "source": [
    "# Using a Python function to replace the column name 'GDP (constant 2015 US$)' of our DataFrame called 'gdp' \n",
    "# with the new column variable \"GDP\". \n",
    "def rename_columns(df):\n",
    "    # Dictionary to map old column name to new column name\n",
    "    column_mapping = {\n",
    "        'GDP (constant 2015 US$)': 'GDP',\n",
    "    }\n",
    "    \n",
    "    # Rename the columns using the dictionary\n",
    "    df.rename(columns=column_mapping, inplace=True)\n",
    "\n",
    "# Calling the function\n",
    "rename_columns(gdp)"
   ]
  },
  {
   "cell_type": "code",
   "execution_count": 163,
   "id": "57fd6a08",
   "metadata": {},
   "outputs": [
    {
     "data": {
      "text/html": [
       "<div>\n",
       "<style scoped>\n",
       "    .dataframe tbody tr th:only-of-type {\n",
       "        vertical-align: middle;\n",
       "    }\n",
       "\n",
       "    .dataframe tbody tr th {\n",
       "        vertical-align: top;\n",
       "    }\n",
       "\n",
       "    .dataframe thead th {\n",
       "        text-align: right;\n",
       "    }\n",
       "</style>\n",
       "<table border=\"1\" class=\"dataframe\">\n",
       "  <thead>\n",
       "    <tr style=\"text-align: right;\">\n",
       "      <th></th>\n",
       "      <th>Entity</th>\n",
       "      <th>Code</th>\n",
       "      <th>Year</th>\n",
       "      <th>GDP</th>\n",
       "    </tr>\n",
       "  </thead>\n",
       "  <tbody>\n",
       "    <tr>\n",
       "      <th>0</th>\n",
       "      <td>Afghanistan</td>\n",
       "      <td>AFG</td>\n",
       "      <td>2002</td>\n",
       "      <td>7555185000</td>\n",
       "    </tr>\n",
       "    <tr>\n",
       "      <th>1</th>\n",
       "      <td>Afghanistan</td>\n",
       "      <td>AFG</td>\n",
       "      <td>2003</td>\n",
       "      <td>8222480400</td>\n",
       "    </tr>\n",
       "    <tr>\n",
       "      <th>2</th>\n",
       "      <td>Afghanistan</td>\n",
       "      <td>AFG</td>\n",
       "      <td>2004</td>\n",
       "      <td>8338755600</td>\n",
       "    </tr>\n",
       "    <tr>\n",
       "      <th>3</th>\n",
       "      <td>Afghanistan</td>\n",
       "      <td>AFG</td>\n",
       "      <td>2005</td>\n",
       "      <td>9275174000</td>\n",
       "    </tr>\n",
       "    <tr>\n",
       "      <th>4</th>\n",
       "      <td>Afghanistan</td>\n",
       "      <td>AFG</td>\n",
       "      <td>2006</td>\n",
       "      <td>9772083000</td>\n",
       "    </tr>\n",
       "  </tbody>\n",
       "</table>\n",
       "</div>"
      ],
      "text/plain": [
       "        Entity Code  Year         GDP\n",
       "0  Afghanistan  AFG  2002  7555185000\n",
       "1  Afghanistan  AFG  2003  8222480400\n",
       "2  Afghanistan  AFG  2004  8338755600\n",
       "3  Afghanistan  AFG  2005  9275174000\n",
       "4  Afghanistan  AFG  2006  9772083000"
      ]
     },
     "execution_count": 163,
     "metadata": {},
     "output_type": "execute_result"
    }
   ],
   "source": [
    "gdp.head()"
   ]
  },
  {
   "cell_type": "markdown",
   "id": "5c5f6278",
   "metadata": {},
   "source": [
    "## new_happiness_2021 DataFrame"
   ]
  },
  {
   "cell_type": "code",
   "execution_count": 164,
   "id": "65467d87",
   "metadata": {},
   "outputs": [
    {
     "data": {
      "text/plain": [
       "(153, 5)"
      ]
     },
     "execution_count": 164,
     "metadata": {},
     "output_type": "execute_result"
    }
   ],
   "source": [
    "#Finding out the number of rows and columns\n",
    "new_happiness_2021.shape"
   ]
  },
  {
   "cell_type": "code",
   "execution_count": 165,
   "id": "50769303",
   "metadata": {},
   "outputs": [
    {
     "data": {
      "text/plain": [
       "Index(['Country', 'Regional indicator', 'Happiness ranking', 'GDP 2021',\n",
       "       'Generosity'],\n",
       "      dtype='object')"
      ]
     },
     "execution_count": 165,
     "metadata": {},
     "output_type": "execute_result"
    }
   ],
   "source": [
    "#Finding out out the column variable names\n",
    "new_happiness_2021.columns"
   ]
  },
  {
   "cell_type": "code",
   "execution_count": 166,
   "id": "1661e7a4",
   "metadata": {},
   "outputs": [
    {
     "name": "stdout",
     "output_type": "stream",
     "text": [
      "<class 'pandas.core.frame.DataFrame'>\n",
      "RangeIndex: 153 entries, 0 to 152\n",
      "Data columns (total 5 columns):\n",
      " #   Column              Non-Null Count  Dtype  \n",
      "---  ------              --------------  -----  \n",
      " 0   Country             153 non-null    object \n",
      " 1   Regional indicator  153 non-null    object \n",
      " 2   Happiness ranking   153 non-null    float64\n",
      " 3   GDP 2021            153 non-null    float64\n",
      " 4   Generosity          153 non-null    float64\n",
      "dtypes: float64(3), object(2)\n",
      "memory usage: 6.1+ KB\n"
     ]
    }
   ],
   "source": [
    "# Getting some fundamental statistics about our dataset\n",
    "new_happiness_2021.info()"
   ]
  },
  {
   "cell_type": "markdown",
   "id": "0ac35fbc",
   "metadata": {},
   "source": [
    "To optimize our analysis of the World Happiness Score 2021, we have to find out if there are missing values (and to what extent). We improve our chances of attaining clear, accurate, and comprehensive results in our analysis when we determine that our relevant data is sufficient to begin with."
   ]
  },
  {
   "cell_type": "code",
   "execution_count": 167,
   "id": "b8cfe3fb",
   "metadata": {},
   "outputs": [
    {
     "data": {
      "text/html": [
       "<div>\n",
       "<style scoped>\n",
       "    .dataframe tbody tr th:only-of-type {\n",
       "        vertical-align: middle;\n",
       "    }\n",
       "\n",
       "    .dataframe tbody tr th {\n",
       "        vertical-align: top;\n",
       "    }\n",
       "\n",
       "    .dataframe thead th {\n",
       "        text-align: right;\n",
       "    }\n",
       "</style>\n",
       "<table border=\"1\" class=\"dataframe\">\n",
       "  <thead>\n",
       "    <tr style=\"text-align: right;\">\n",
       "      <th></th>\n",
       "      <th>Country</th>\n",
       "      <th>Regional indicator</th>\n",
       "      <th>Happiness ranking</th>\n",
       "      <th>GDP 2021</th>\n",
       "      <th>Generosity</th>\n",
       "    </tr>\n",
       "  </thead>\n",
       "  <tbody>\n",
       "    <tr>\n",
       "      <th>0</th>\n",
       "      <td>False</td>\n",
       "      <td>False</td>\n",
       "      <td>False</td>\n",
       "      <td>False</td>\n",
       "      <td>False</td>\n",
       "    </tr>\n",
       "    <tr>\n",
       "      <th>1</th>\n",
       "      <td>False</td>\n",
       "      <td>False</td>\n",
       "      <td>False</td>\n",
       "      <td>False</td>\n",
       "      <td>False</td>\n",
       "    </tr>\n",
       "    <tr>\n",
       "      <th>2</th>\n",
       "      <td>False</td>\n",
       "      <td>False</td>\n",
       "      <td>False</td>\n",
       "      <td>False</td>\n",
       "      <td>False</td>\n",
       "    </tr>\n",
       "    <tr>\n",
       "      <th>3</th>\n",
       "      <td>False</td>\n",
       "      <td>False</td>\n",
       "      <td>False</td>\n",
       "      <td>False</td>\n",
       "      <td>False</td>\n",
       "    </tr>\n",
       "    <tr>\n",
       "      <th>4</th>\n",
       "      <td>False</td>\n",
       "      <td>False</td>\n",
       "      <td>False</td>\n",
       "      <td>False</td>\n",
       "      <td>False</td>\n",
       "    </tr>\n",
       "  </tbody>\n",
       "</table>\n",
       "</div>"
      ],
      "text/plain": [
       "   Country  Regional indicator  Happiness ranking  GDP 2021  Generosity\n",
       "0    False               False              False     False       False\n",
       "1    False               False              False     False       False\n",
       "2    False               False              False     False       False\n",
       "3    False               False              False     False       False\n",
       "4    False               False              False     False       False"
      ]
     },
     "execution_count": 167,
     "metadata": {},
     "output_type": "execute_result"
    }
   ],
   "source": [
    "# Checking for missing values\n",
    "new_happiness_2021.isna().head()"
   ]
  },
  {
   "cell_type": "code",
   "execution_count": 168,
   "id": "967e4b02",
   "metadata": {},
   "outputs": [
    {
     "data": {
      "text/plain": [
       "Country               0\n",
       "Regional indicator    0\n",
       "Happiness ranking     0\n",
       "GDP 2021              0\n",
       "Generosity            0\n",
       "dtype: int64"
      ]
     },
     "execution_count": 168,
     "metadata": {},
     "output_type": "execute_result"
    }
   ],
   "source": [
    "# Getting a tally of possible missing values for each row\n",
    "# We find out that under the column 'Code' there are 779 missing values\n",
    "new_happiness_2021.isna().sum()"
   ]
  },
  {
   "cell_type": "markdown",
   "id": "24f7ae67",
   "metadata": {},
   "source": [
    "We have a tidy new_happiness_2021 DataFrame, and this makes it perfect for further data processing and analysis."
   ]
  },
  {
   "cell_type": "markdown",
   "id": "9eb46320",
   "metadata": {},
   "source": [
    "## 3. Univariate statistical analysis"
   ]
  },
  {
   "cell_type": "markdown",
   "id": "2d855108",
   "metadata": {},
   "source": []
  },
  {
   "cell_type": "markdown",
   "id": "beb8bc69",
   "metadata": {},
   "source": [
    "### A. Determining GDP trends across the years"
   ]
  },
  {
   "cell_type": "markdown",
   "id": "bb82288a",
   "metadata": {},
   "source": [
    "Let's first find out the **_years_** covered by our data and proceed from there. "
   ]
  },
  {
   "cell_type": "code",
   "execution_count": 169,
   "id": "dcb49fd5",
   "metadata": {},
   "outputs": [
    {
     "name": "stdout",
     "output_type": "stream",
     "text": [
      "The range of years is from 1960 to 2021\n"
     ]
    }
   ],
   "source": [
    "# Determining the range of years under the 'Year' column using a function\n",
    "def get_year_range(data_frame, year_column):\n",
    "    min_year = data_frame[year_column].min()\n",
    "    max_year = data_frame[year_column].max()\n",
    "    return min_year, max_year\n",
    "\n",
    "# Calling the function to get the range of years\n",
    "min_year, max_year = get_year_range(gdp, 'Year')\n",
    "\n",
    "print(f'The range of years is from {min_year} to {max_year}')"
   ]
  },
  {
   "cell_type": "markdown",
   "id": "af132869",
   "metadata": {},
   "source": [
    "We can visually explore the relationship between 'Year' and 'GDP' by creating a bar plot. That being said, we will deploy a handy data visualization tool, matplotlib."
   ]
  },
  {
   "cell_type": "code",
   "execution_count": 170,
   "id": "c0995a24",
   "metadata": {},
   "outputs": [
    {
     "data": {
      "image/png": "[encoded data removed]",
      "text/plain": [
       "<Figure size 720x432 with 1 Axes>"
      ]
     },
     "metadata": {},
     "output_type": "display_data"
    }
   ],
   "source": [
    "import matplotlib.pyplot as plt\n",
    "\n",
    "# Using the same DataFrame 'gdp' with 'Year' column, we will aggregate the values into decades to prepare\n",
    "# for a more compact plot\n",
    "gdp['Decade'] = pd.cut(gdp['Year'], bins=[1960, 1970, 1980, 1990, 2000, 2010, 2021], labels=['1960-1970', '1971-1980', '1981-1990', '1991-2000', '2001-2010', '2010-2021'])\n",
    "\n",
    "# Counting the number of occurrences for each decade\n",
    "decade_counts = gdp['Decade'].value_counts().sort_index()\n",
    "\n",
    "# Defining colors for each decade\n",
    "colors = ['blue', 'green', 'orange', 'red', 'purple', 'brown']\n",
    "\n",
    "# Creating a bar plot with different colors\n",
    "plt.figure(figsize=(10, 6))\n",
    "decade_counts.plot(kind='bar', color=colors, edgecolor='black')\n",
    "plt.xlabel('Decade')\n",
    "plt.ylabel('Frequency')\n",
    "plt.title('Decade Distribution Bar Plot')\n",
    "plt.xticks(rotation=45, ha='right')  # Rotating x-axis labels for better readability\n",
    "plt.show()"
   ]
  },
  {
   "cell_type": "markdown",
   "id": "1bd379ff",
   "metadata": {},
   "source": [
    "Let us generate fundamental measures of central tendency (i.e. mean, median, and standard deviation). In this regard, we use numPy and the relevant functions from this library."
   ]
  },
  {
   "cell_type": "code",
   "execution_count": 171,
   "id": "8d22a8a5",
   "metadata": {},
   "outputs": [
    {
     "name": "stdout",
     "output_type": "stream",
     "text": [
      "Mean GDP: 1042818672277.4669\n",
      "Minimum GDP: 21561952\n",
      "Maximum GDP: 86852660000000\n",
      "Median GDP: 20351154000.0\n",
      "Standard Deviation of GDP: 4918907982561.434\n"
     ]
    }
   ],
   "source": [
    "import pandas as pd\n",
    "\n",
    "# Using the 'gdp' with 'Year', 'Decade', and 'GDP (constant 2015 US$)' columns\n",
    "gdp['Decade'] = pd.cut(gdp['Year'], bins=[1960, 1970, 1980, 1990, 2000, 2010, 2021], labels=['1960-1970', '1971-1980', '1981-1990', '1991-2000', '2001-2010', '2010-2021'])\n",
    "\n",
    "# Calculate mean, median, and standard deviation for 'GDP (constant 2015 US$)'\n",
    "mean_gdp = gdp['GDP'].mean()\n",
    "min_gdp = gdp['GDP'].min()\n",
    "max_gdp = gdp['GDP'].max()\n",
    "median_gdp = gdp['GDP'].median()\n",
    "std_gdp = gdp['GDP'].std()\n",
    "\n",
    "print(f\"Mean GDP: {mean_gdp}\")\n",
    "print(f\"Minimum GDP: {min_gdp}\")\n",
    "print(f\"Maximum GDP: {max_gdp}\")\n",
    "print(f\"Median GDP: {median_gdp}\")\n",
    "print(f\"Standard Deviation of GDP: {std_gdp}\")"
   ]
  },
  {
   "cell_type": "markdown",
   "id": "d2c6666a",
   "metadata": {},
   "source": []
  },
  {
   "cell_type": "markdown",
   "id": "8ac2ec28",
   "metadata": {},
   "source": []
  },
  {
   "cell_type": "markdown",
   "id": "0ada65d8",
   "metadata": {},
   "source": []
  },
  {
   "cell_type": "markdown",
   "id": "0a4845a9",
   "metadata": {},
   "source": []
  },
  {
   "cell_type": "markdown",
   "id": "dd989337",
   "metadata": {},
   "source": [
    "We can calculate the correlation between 'Year' and 'GDP' then determine the strength of the correlation. "
   ]
  },
  {
   "cell_type": "code",
   "execution_count": 172,
   "id": "03869ea2",
   "metadata": {},
   "outputs": [
    {
     "name": "stdout",
     "output_type": "stream",
     "text": [
      "Correlation between 'Decade' and 'GDP': 1.0\n"
     ]
    }
   ],
   "source": [
    "import pandas as pd\n",
    "\n",
    "# Using 'gdp' DataFrame with 'Year', 'Decade', and 'GDP' columns\n",
    "gdp['Decade'] = pd.cut(gdp['Year'], bins=[1960, 1970, 1980, 1990, 2000, 2010, 2021], labels=['1960-1970', '1971-1980', '1981-1990', '1991-2000', '2001-2010', '2010-2021'])\n",
    "\n",
    "# Calculating the mean 'GDP' for each 'Decade'\n",
    "mean_gdp_by_decade = gdp.groupby('Decade')['GDP'].mean().reset_index()\n",
    "\n",
    "# Calculating correlation between 'Decade' and 'GDP'\n",
    "correlation = mean_gdp_by_decade.corr(numeric_only=True).iloc[0, 0]\n",
    "\n",
    "print(f\"Correlation between 'Decade' and 'GDP': {correlation}\")"
   ]
  },
  {
   "cell_type": "markdown",
   "id": "3d60195a",
   "metadata": {},
   "source": [
    "Based on the result, the global 2021 GDP values and variable time (expressed as 'Year' grouped as 'Decade') are not only correlated, but the **values under 'Decade' and 'GDP' have a causal relationship**. "
   ]
  },
  {
   "cell_type": "markdown",
   "id": "d707667b",
   "metadata": {},
   "source": [
    "### B. Examining distribution of happiness scores across regions"
   ]
  },
  {
   "cell_type": "markdown",
   "id": "659a097e",
   "metadata": {},
   "source": [
    "To get information on the breakdown of countries per region, we can aggregate them into regional groups and sort the results."
   ]
  },
  {
   "cell_type": "code",
   "execution_count": 173,
   "id": "ede4972d",
   "metadata": {},
   "outputs": [
    {
     "name": "stdout",
     "output_type": "stream",
     "text": [
      "Regional indicator\n",
      "Sub-Saharan Africa                    39\n",
      "Latin America and Caribbean           21\n",
      "Western Europe                        21\n",
      "Central and Eastern Europe            17\n",
      "Middle East and North Africa          17\n",
      "Commonwealth of Independent States    12\n",
      "Southeast Asia                         9\n",
      "South Asia                             7\n",
      "East Asia                              6\n",
      "North America and ANZ                  4\n",
      "dtype: int64\n"
     ]
    }
   ],
   "source": [
    "# Aggregating countries into groups in terms of their regional indicator and sorting the results\n",
    "regional_counts = new_happiness_2021.groupby('Regional indicator').size().sort_values(ascending=False)\n",
    "\n",
    "# Printing the sorted values\n",
    "print(regional_counts)"
   ]
  },
  {
   "cell_type": "markdown",
   "id": "a656344b",
   "metadata": {},
   "source": [
    "We can easily imagine the composition through a pie chart:"
   ]
  },
  {
   "cell_type": "code",
   "execution_count": 174,
   "id": "2d5a4f81",
   "metadata": {},
   "outputs": [
    {
     "data": {
      "image/png": "[encoded data removed]",
      "text/plain": [
       "<Figure size 720x720 with 1 Axes>"
      ]
     },
     "metadata": {},
     "output_type": "display_data"
    }
   ],
   "source": [
    "# Passing the results of aggregating and sorting data using groupby and size operations to a variable\n",
    "regional_counts = new_happiness_2021.groupby('Regional indicator').size().sort_values()\n",
    "\n",
    "# Defining colors for each regional indicator\n",
    "colors = ['blue', 'green', 'orange', 'red', 'purple', 'brown', 'cyan', 'magenta', 'white', 'gray']\n",
    "\n",
    "# Creating a pie chart with a black outline\n",
    "plt.figure(figsize=(10, 10))\n",
    "plt.pie(regional_counts, labels=regional_counts.index, colors=colors, autopct='%1.1f%%', startangle=90,\n",
    "        wedgeprops=dict(width=0.4, edgecolor='black'))\n",
    "plt.show()"
   ]
  },
  {
   "cell_type": "markdown",
   "id": "13156847",
   "metadata": {},
   "source": [
    "...or a bar plot:"
   ]
  },
  {
   "cell_type": "code",
   "execution_count": 175,
   "id": "109ef56e",
   "metadata": {},
   "outputs": [
    {
     "data": {
      "image/png": "[encoded data removed]",
      "text/plain": [
       "<Figure size 432x288 with 1 Axes>"
      ]
     },
     "metadata": {},
     "output_type": "display_data"
    }
   ],
   "source": [
    "import matplotlib.pyplot as plt\n",
    "\n",
    "# Assuming you have already executed the groupby and size operations\n",
    "regional_counts = new_happiness_2021.groupby('Regional indicator').size().sort_values()\n",
    "\n",
    "# Defining colors for each decade\n",
    "colors = ['blue', 'green', 'orange', 'red', 'purple', 'brown', 'cyan', 'magenta', 'white', 'gray']\n",
    "\n",
    "# Create a bar plot\n",
    "plt.bar(regional_counts.index, regional_counts, color=colors, edgecolor='black')\n",
    "plt.xticks(rotation=90)  # Rotate x-axis labels for better visibility\n",
    "plt.xlabel('Regional indicator')\n",
    "plt.ylabel('Count')\n",
    "plt.title('Count of Each Regional indicator')\n",
    "plt.xticks(rotation=45, ha='right')  # Rotating x-axis labels for better readability\n",
    "plt.show()"
   ]
  },
  {
   "cell_type": "markdown",
   "id": "da21492f",
   "metadata": {},
   "source": [
    "**_What percentage of each regional group consists of the happiest countries?_** We can find out by first retrieving relevant descriptive statistics of our 'new_happiness_2021' dataframe."
   ]
  },
  {
   "cell_type": "code",
   "execution_count": 176,
   "id": "fda9ecd3",
   "metadata": {},
   "outputs": [
    {
     "name": "stdout",
     "output_type": "stream",
     "text": [
      "count    153.00000\n",
      "mean       5.47324\n",
      "std        1.11227\n",
      "min        2.56690\n",
      "25%        4.72410\n",
      "50%        5.51500\n",
      "75%        6.22850\n",
      "max        7.80870\n",
      "Name: Happiness ranking, dtype: float64\n"
     ]
    }
   ],
   "source": [
    "print(new_happiness_2021['Happiness ranking'].describe())"
   ]
  },
  {
   "cell_type": "markdown",
   "id": "5301db26",
   "metadata": {},
   "source": [
    "Based on the measures of central tendency, we can peg a **threshold for very happy countries** close to the mean, rounded to the nearest ten **i.e. 5**."
   ]
  },
  {
   "cell_type": "markdown",
   "id": "24b3d64f",
   "metadata": {},
   "source": [
    "Let us further add nuance to our analysis by using a data visualization tool built on top matplotlib called seaborn. "
   ]
  },
  {
   "cell_type": "code",
   "execution_count": 177,
   "id": "a6fdb72f",
   "metadata": {},
   "outputs": [
    {
     "data": {
      "image/png": "[encoded data removed]",
      "text/plain": [
       "<Figure size 720x432 with 2 Axes>"
      ]
     },
     "metadata": {},
     "output_type": "display_data"
    }
   ],
   "source": [
    "import seaborn as sns\n",
    "\n",
    "# Assuming 'new_happiness_2021' is your DataFrame\n",
    "# You may need to replace 'Happiness ranking' with the actual column name representing the happiness ranking\n",
    "\n",
    "threshold = 5\n",
    "\n",
    "# Group by 'Regional indicator' and calculate count and percentage of countries with ranking >= threshold\n",
    "grouped_data = new_happiness_2021.groupby('Regional indicator')['Happiness ranking'].agg(['count', lambda x: (x >= threshold).mean() * 100])\n",
    "\n",
    "# Rename the columns for clarity\n",
    "grouped_data.columns = ['Count', 'Percentage High Happiness']\n",
    "\n",
    "# Sort the DataFrame by 'Percentage High Happiness' in descending order\n",
    "grouped_data = grouped_data.sort_values(by='Percentage High Happiness', ascending=False)\n",
    "\n",
    "# Create a heatmap using Seaborn\n",
    "plt.figure(figsize=(10, 6))\n",
    "sns.heatmap(grouped_data, annot=True, fmt=\".2f\", cmap=\"YlGnBu\", linewidths=.5)\n",
    "plt.title('Percentage of Highest Happiness Countries per Regional Group')\n",
    "plt.show()"
   ]
  },
  {
   "cell_type": "markdown",
   "id": "ed989c9f",
   "metadata": {},
   "source": [
    "Among the ten regions in our dataframe, it is the **Sub-Saharn African region that is composed of the most countries with the lowest percentage of happiness rankings (about 15%)** compared to the rest of the nine (9) other regions in our data. "
   ]
  },
  {
   "cell_type": "markdown",
   "id": "d77aca50",
   "metadata": {},
   "source": [
    "## 2. Multivariate statistical analysis"
   ]
  },
  {
   "cell_type": "markdown",
   "id": "4515a2ec",
   "metadata": {},
   "source": [
    "###A. The relationship "
   ]
  }
 ],
 "metadata": {
  "kernelspec": {
   "display_name": "Python 3 (ipykernel)",
   "language": "python",
   "name": "python3"
  },
  "language_info": {
   "codemirror_mode": {
    "name": "ipython",
    "version": 3
   },
   "file_extension": ".py",
   "mimetype": "text/x-python",
   "name": "python",
   "nbconvert_exporter": "python",
   "pygments_lexer": "ipython3",
   "version": "3.9.12"
  }
 },
 "nbformat": 4,
 "nbformat_minor": 5
}
